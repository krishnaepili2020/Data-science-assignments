{
 "cells": [
  {
   "cell_type": "code",
   "execution_count": null,
   "metadata": {},
   "outputs": [],
   "source": [
    "import numpy as np\n",
    "import matplotlib.pyplot as plt\n",
    "from mpl_toolkits.mplot3d import Axes3D\n",
    "from sklearn import decomposition\n",
    "from sklearn import datasets\n",
    "\n",
    "np.random.seed(5)\n",
    "\n",
    "centers = [[1, 1], [-1, -1], [1, -1]]\n",
    "iris = datasets.load_iris()\n",
    "X = iris.data#the floating point values\n",
    "\n",
    "\n",
    "\n",
    "fig = plt.figure(1, figsize=(8, 6))\n",
    "ax = Axes3D(fig, rect=[0, 0, .95, 1], elev=48, azim=134)\n",
    "\n",
    "ax.scatter(X[:, 0], X[:, 1], X[:, 2], c ='r',\n",
    "           edgecolor='k')\n",
    "#ax.text3D(X[:, 0],X[:, 1],X[:, 2], name, horizontalalignment='center',bbox=dict(alpha=.5, edgecolor='w', facecolor='w'))\n",
    "#ax.text3D('sepal_length', 'sepal_width','petal_length',name)\n",
    "ax.w_xaxis.set_ticklabels(X[:, 0])\n",
    "ax.w_yaxis.set_ticklabels(X[:, 1])\n",
    "ax.w_zaxis.set_ticklabels(X[:, 2])\n",
    "ax.set_xlabel('sepal_length')\n",
    "ax.set_ylabel('sepal_width')\n",
    "ax.set_zlabel('petal_length')\n",
    "\n",
    "plt.show()"
   ]
  },
  {
   "cell_type": "code",
   "execution_count": null,
   "metadata": {},
   "outputs": [],
   "source": []
  }
 ],
 "metadata": {
  "kernelspec": {
   "display_name": "Python 3",
   "language": "python",
   "name": "python3"
  }
 },
 "nbformat": 4,
 "nbformat_minor": 4
}

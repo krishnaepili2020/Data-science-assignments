{
 "cells": [
  {
   "cell_type": "code",
   "execution_count": null,
   "metadata": {},
   "outputs": [],
   "source": [
    "class length:\n",
    "    def __init__(self, side1, side2, side3):\n",
    "        self.side1, self.side2, self.side3 = [\n",
    "            float(side) for side in input(\n",
    "                \"Enter length of sides with space : \").split()]\n",
    "\n",
    "\n",
    "class triangle(length):\n",
    "    def __init__(self, side1, side2, side3):\n",
    "        length.__init__(self, side1, side2, side3)\n",
    "\n",
    "    def area(self):\n",
    "        s = (self.side1+ self.side2+self.side3)/2\n",
    "        return ((s * (s-self.side1) * (s-self.side2) * (s-self.side3)))**0.5\n",
    "\n",
    "mytriangle = triangle(0,0,0)\n",
    "print(\"Area of the triangle is : \",mytriangle.area())"
   ]
  },
  {
   "cell_type": "code",
   "execution_count": null,
   "metadata": {},
   "outputs": [],
   "source": [
    "def filter_long_words(lw,n):\n",
    "    return list(filter(lambda x : len(x) > n , lw))\n",
    "\n",
    "list_words = ['krishna', 'test', 'sea', 'on']\n",
    "\n",
    "filter_long_words(list_words,3)"
   ]
  },
  {
   "cell_type": "code",
   "execution_count": null,
   "metadata": {},
   "outputs": [],
   "source": [
    "def length(lw):\n",
    "    return list(map(lambda x : len(x),lw))\n",
    "\n",
    "list_words = ['krishna', 'test', 'sea', 'on']\n",
    "\n",
    "length(list_words)\n",
    "\n"
   ]
  },
  {
   "cell_type": "code",
   "execution_count": null,
   "metadata": {},
   "outputs": [],
   "source": [
    "def if_vowel(char):\n",
    "    vowel = [\"a\", \"e\", \"i\", \"o\", \"u\"]\n",
    "    if len(char) > 1:\n",
    "        print(\"Please enter only one character\")\n",
    "    elif char in vowel:\n",
    "        return True\n",
    "    else:\n",
    "        return False\n",
    "\n",
    "\n",
    "char = input(\"Enter a character :\")\n",
    "new_char = char.lower()\n",
    "print(\"Is {} a vowel?: \".format(char),if_vowel(new_char))"
   ]
  },
  {
   "cell_type": "code",
   "execution_count": null,
   "metadata": {},
   "outputs": [],
   "source": []
  },
  {
   "cell_type": "code",
   "execution_count": null,
   "metadata": {},
   "outputs": [],
   "source": []
  },
  {
   "cell_type": "code",
   "execution_count": null,
   "metadata": {},
   "outputs": [],
   "source": []
  },
  {
   "cell_type": "code",
   "execution_count": null,
   "metadata": {},
   "outputs": [],
   "source": []
  }
 ],
 "metadata": {
  "kernelspec": {
   "display_name": "Python 3",
   "language": "python",
   "name": "python3"
  },
  "language_info": {
   "codemirror_mode": {
    "name": "ipython",
    "version": 3
   },
   "file_extension": ".py",
   "mimetype": "text/x-python",
   "name": "python",
   "nbconvert_exporter": "python",
   "pygments_lexer": "ipython3",
   "version": "3.8.3"
  }
 },
 "nbformat": 4,
 "nbformat_minor": 4
}
